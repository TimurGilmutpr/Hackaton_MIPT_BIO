{
 "cells": [
  {
   "cell_type": "code",
   "execution_count": 1,
   "id": "aa62c06b",
   "metadata": {},
   "outputs": [
    {
     "name": "stdout",
     "output_type": "stream",
     "text": [
      "\n",
      "=== norma_png → norma_lung ===\n",
      "Найдено PNG (включая подпапки): 451\n"
     ]
    },
    {
     "name": "stderr",
     "output_type": "stream",
     "text": [
      "Исследования:   0%|          | 0/1 [00:00<?, ?it/s]\n",
      "/home/wsl/miniconda3/lib/python3.13/site-packages/tqdm/std.py:636: TqdmWarning: clamping frac to range [0, 1]\n",
      "102%|██████████| 23/22.55 [00:06<00:00,  3.72it/s]"
     ]
    },
    {
     "name": "stdout",
     "output_type": "stream",
     "text": [
      "lungmask 2025-10-01 21:32:36 Postprocessing\n"
     ]
    },
    {
     "name": "stderr",
     "output_type": "stream",
     "text": [
      "\n",
      "100%|██████████| 826/826 [00:18<00:00, 44.50it/s]\n",
      "102%|██████████| 23/22.55 [00:06<00:00,  3.80it/s]"
     ]
    },
    {
     "name": "stdout",
     "output_type": "stream",
     "text": [
      "lungmask 2025-10-01 21:33:09 Postprocessing\n"
     ]
    },
    {
     "name": "stderr",
     "output_type": "stream",
     "text": [
      "\n",
      "100%|██████████| 670/670 [00:15<00:00, 43.91it/s]\n",
      "102%|██████████| 23/22.55 [00:05<00:00,  3.98it/s]"
     ]
    },
    {
     "name": "stdout",
     "output_type": "stream",
     "text": [
      "lungmask 2025-10-01 21:33:39 Postprocessing\n"
     ]
    },
    {
     "name": "stderr",
     "output_type": "stream",
     "text": [
      "\n",
      "0it [00:00, ?it/s]\n",
      "Исследования: 100%|██████████| 1/1 [01:17<00:00, 77.72s/it]\n"
     ]
    },
    {
     "name": "stdout",
     "output_type": "stream",
     "text": [
      "Сохранено срезов: 374\n",
      "\n",
      "=== pneumonia_png → pneumonia_lung ===\n",
      "Найдено PNG (включая подпапки): 367\n"
     ]
    },
    {
     "name": "stderr",
     "output_type": "stream",
     "text": [
      "19it [00:04,  3.85it/s]                           ]"
     ]
    },
    {
     "name": "stdout",
     "output_type": "stream",
     "text": [
      "lungmask 2025-10-01 21:33:51 Postprocessing\n"
     ]
    },
    {
     "name": "stderr",
     "output_type": "stream",
     "text": [
      "\n",
      "0it [00:00, ?it/s]\n",
      "19it [00:05,  3.72it/s]                           "
     ]
    },
    {
     "name": "stdout",
     "output_type": "stream",
     "text": [
      "lungmask 2025-10-01 21:34:00 Postprocessing\n"
     ]
    },
    {
     "name": "stderr",
     "output_type": "stream",
     "text": [
      "\n",
      "0it [00:00, ?it/s]\n",
      "19it [00:04,  3.88it/s]                           "
     ]
    },
    {
     "name": "stdout",
     "output_type": "stream",
     "text": [
      "lungmask 2025-10-01 21:34:09 Postprocessing\n"
     ]
    },
    {
     "name": "stderr",
     "output_type": "stream",
     "text": [
      "\n",
      "0it [00:00, ?it/s]\n",
      "Исследования: 100%|██████████| 1/1 [00:45<00:00, 45.89s/it]\n"
     ]
    },
    {
     "name": "stdout",
     "output_type": "stream",
     "text": [
      "Сохранено срезов: 367\n",
      "\n",
      "=== pneumotorax_png → pneumotorax_lung ===\n",
      "Найдено PNG (включая подпапки): 476\n"
     ]
    },
    {
     "name": "stderr",
     "output_type": "stream",
     "text": [
      "101%|██████████| 24/23.8 [00:06<00:00,  3.84it/s]s]"
     ]
    },
    {
     "name": "stdout",
     "output_type": "stream",
     "text": [
      "lungmask 2025-10-01 21:34:39 Postprocessing\n"
     ]
    },
    {
     "name": "stderr",
     "output_type": "stream",
     "text": [
      "\n",
      "100%|██████████| 470/470 [00:10<00:00, 45.29it/s]\n",
      "101%|██████████| 24/23.8 [00:06<00:00,  3.66it/s]"
     ]
    },
    {
     "name": "stdout",
     "output_type": "stream",
     "text": [
      "lungmask 2025-10-01 21:35:06 Postprocessing\n"
     ]
    },
    {
     "name": "stderr",
     "output_type": "stream",
     "text": [
      "\n",
      "100%|██████████| 486/486 [00:10<00:00, 44.82it/s]\n",
      "101%|██████████| 24/23.8 [00:06<00:00,  3.81it/s]"
     ]
    },
    {
     "name": "stdout",
     "output_type": "stream",
     "text": [
      "lungmask 2025-10-01 21:35:33 Postprocessing\n"
     ]
    },
    {
     "name": "stderr",
     "output_type": "stream",
     "text": [
      "\n",
      "0it [00:00, ?it/s]\n",
      "Исследования: 100%|██████████| 1/1 [01:08<00:00, 68.18s/it]"
     ]
    },
    {
     "name": "stdout",
     "output_type": "stream",
     "text": [
      "Сохранено срезов: 458\n",
      "Total PNG files in 'norma_lung': 374\n",
      "Total PNG files in 'pneumonia_lung': 368\n",
      "Total PNG files in 'pneumotorax_lung': 458\n"
     ]
    },
    {
     "name": "stderr",
     "output_type": "stream",
     "text": [
      "\n"
     ]
    }
   ],
   "source": [
    "import os\n",
    "import re\n",
    "import cv2\n",
    "import numpy as np\n",
    "import SimpleITK as sitk\n",
    "from tqdm import tqdm\n",
    "from typing import List, Tuple\n",
    "\n",
    "# --- МОДЕЛИ ---\n",
    "from lungmask import mask as lungmask\n",
    "# Для TotalSegmentator (если хочешь): pip install TotalSegmentator\n",
    "# from totalsegmentator.python_api import totalseg\n",
    "\n",
    "# ==== НАСТРОЙКИ ====\n",
    "input_dirs  = ['norma_png', 'pneumonia_png', 'pneumotorax_png']\n",
    "output_dirs = ['norma_lung', 'pneumonia_lung', 'pneumotorax_lung']\n",
    "os.makedirs(\"temp_seg\", exist_ok=True)\n",
    "\n",
    "# Минимальная площадь маски на срез (в пикселях), чтобы считать \"есть грудная клетка\"\n",
    "min_pixels = 5000\n",
    "\n",
    "# ==== ВСПОМОГАТЕЛЬНОЕ ====\n",
    "num_re = re.compile(r'(\\d+)')\n",
    "\n",
    "def sort_key(fname: str):\n",
    "    m = num_re.findall(fname)\n",
    "    return (int(m[-1]) if m else 0, fname)\n",
    "\n",
    "def list_pngs(folder: str) -> List[str]:\n",
    "    files = [f for f in os.listdir(folder) if f.lower().endswith('.png')]\n",
    "    files.sort(key=sort_key)\n",
    "    return files\n",
    "\n",
    "def build_volume(png_dir: str) -> Tuple[np.ndarray, List[str]]:\n",
    "    files = list_pngs(png_dir)\n",
    "    if not files:\n",
    "        return np.zeros((0,512,512), dtype=np.uint8), []\n",
    "    slices = []\n",
    "    for f in files:\n",
    "        p = os.path.join(png_dir, f)\n",
    "        img = cv2.imread(p, cv2.IMREAD_GRAYSCALE)\n",
    "        if img is None:\n",
    "            continue\n",
    "        if img.shape != (512,512):\n",
    "            img = cv2.resize(img, (512,512), interpolation=cv2.INTER_NEAREST)\n",
    "        slices.append(img)\n",
    "    if not slices:\n",
    "        return np.zeros((0,512,512), dtype=np.uint8), []\n",
    "    vol_u8 = np.stack(slices, axis=0)  # (z,y,x)\n",
    "    return vol_u8, files\n",
    "\n",
    "def u8_to_hu_approx(vol_u8: np.ndarray, W: float, L: float) -> np.ndarray:\n",
    "    \"\"\"\n",
    "    Обратное окно-приближение: предполагаем, что 0..255 получены из HU окном (W,L)\n",
    "    с линейным масштабом (без клипа). Тогда HU ≈ (u8/255)*W + (L - W/2).\n",
    "    \"\"\"\n",
    "    return (vol_u8.astype(np.float32) / 255.0) * W + (L - W/2.0)\n",
    "\n",
    "def sitk_from_hu(vol_hu: np.ndarray) -> sitk.Image:\n",
    "    vol = vol_hu.astype(np.int16, copy=False)\n",
    "    img = sitk.GetImageFromArray(vol)  # spacing неизвестен; пусть будет 1\n",
    "    img.SetSpacing((1.0, 1.0, 1.0))\n",
    "    return img\n",
    "\n",
    "def run_lungmask_best(vol_u8: np.ndarray) -> np.ndarray:\n",
    "    # Пробуем 3 окна — берём маску с максимальной площадью\n",
    "    windows = [(1500, -600), (1600, -600), (350, 40)]\n",
    "    best_mask = None\n",
    "    best_sum = -1\n",
    "    for W, L in windows:\n",
    "        hu = u8_to_hu_approx(vol_u8, W, L)\n",
    "        img = sitk_from_hu(hu)\n",
    "        try:\n",
    "            m = lungmask.apply(img)  # (z,y,x), 0/1\n",
    "            s = m.sum()\n",
    "            if s > best_sum:\n",
    "                best_sum = s\n",
    "                best_mask = m\n",
    "        except Exception as e:\n",
    "            # иногда падает на «плоских» томах — просто пытаемся дальше\n",
    "            continue\n",
    "    if best_mask is None:\n",
    "        return np.zeros_like(vol_u8, dtype=np.uint8)\n",
    "    return best_mask.astype(np.uint8)\n",
    "\n",
    "import skimage.morphology as morph\n",
    "import skimage.measure as meas\n",
    "from scipy.ndimage import binary_fill_holes   # 👈 вот отсюда\n",
    "\n",
    "def fallback_chest_mask(vol_u8: np.ndarray) -> np.ndarray:\n",
    "    Z, H, W = vol_u8.shape\n",
    "    out = np.zeros_like(vol_u8, dtype=np.uint8)\n",
    "    for i in range(Z):\n",
    "        sl = vol_u8[i]\n",
    "        # Бинаризация тела\n",
    "        thr_body, _ = cv2.threshold(sl, 0, 255, cv2.THRESH_BINARY+cv2.THRESH_OTSU)\n",
    "        body = (sl >= thr_body).astype(np.uint8)\n",
    "\n",
    "        # Воздух/лёгкие\n",
    "        thr_lung = int(max(0, thr_body * 0.6))\n",
    "        lungs = (sl <= thr_lung).astype(np.uint8)\n",
    "        lungs = cv2.bitwise_and(lungs, body)\n",
    "\n",
    "        # Морфология\n",
    "        lungs = morph.binary_opening(lungs, morph.disk(3))\n",
    "        lungs = morph.binary_closing(lungs, morph.disk(5))\n",
    "        lungs = morph.remove_small_objects(lungs.astype(bool), 500)\n",
    "\n",
    "        lab = meas.label(lungs, connectivity=2)\n",
    "        props = sorted(meas.regionprops(lab), key=lambda p: p.area, reverse=True)\n",
    "        keep = [p.label for p in props[:3]]\n",
    "        if keep:\n",
    "            m = np.isin(lab, keep)\n",
    "            m = morph.binary_closing(m, morph.disk(7))\n",
    "            m = binary_fill_holes(m)     # ✅ теперь работает\n",
    "            out[i] = m.astype(np.uint8)\n",
    "    return out\n",
    "\n",
    "\n",
    "def ensure_dir(d):\n",
    "    os.makedirs(d, exist_ok=True)\n",
    "\n",
    "def save_selected_slices(src_dir: str, dst_dir: str, files: List[str], vol_u8: np.ndarray, mask: np.ndarray) -> int:\n",
    "    ensure_dir(dst_dir)\n",
    "    saved = 0\n",
    "    for i, fname in enumerate(files):\n",
    "        if i >= mask.shape[0]:\n",
    "            break\n",
    "        if mask[i].sum() >= min_pixels:\n",
    "            cv2.imwrite(os.path.join(dst_dir, fname), vol_u8[i])\n",
    "            saved += 1\n",
    "    return saved\n",
    "\n",
    "# ==== ОСНОВНОЙ ЦИКЛ ====\n",
    "for in_dir, out_dir in zip(input_dirs, output_dirs):\n",
    "    print(f\"\\n=== {in_dir} → {out_dir} ===\")\n",
    "    total_png = sum(len(fs) for _, _, fs in os.walk(in_dir))\n",
    "    print(f\"Найдено PNG (включая подпапки): {total_png}\")\n",
    "\n",
    "    # Если подкаталоги-исследования, пройдёмся по каждому; если плоско — просто сам in_dir\n",
    "    subdirs = []\n",
    "    for root, dirs, files in os.walk(in_dir):\n",
    "        # Берём только листья, где реально есть PNG\n",
    "        pngs = [f for f in files if f.lower().endswith('.png')]\n",
    "        if pngs:\n",
    "            subdirs.append(root)\n",
    "    if not subdirs:\n",
    "        subdirs = [in_dir]\n",
    "\n",
    "    total_saved = 0\n",
    "    for study_dir in tqdm(subdirs, desc=\"Исследования\"):\n",
    "        vol_u8, files = build_volume(study_dir)\n",
    "        if vol_u8.size == 0 or not files:\n",
    "            continue\n",
    "\n",
    "        # 1) Пытаемся lungmask с тремя окнами\n",
    "        mask = run_lungmask_best(vol_u8)\n",
    "\n",
    "        # 2) Если маска пустая — фолбэк\n",
    "        if mask.sum() < min_pixels:\n",
    "            mask_fb = fallback_chest_mask(vol_u8)\n",
    "            # Берём лучшую из двух\n",
    "            if mask_fb.sum() > mask.sum():\n",
    "                mask = mask_fb\n",
    "\n",
    "        # 3) Сохраняем только срезы с достаточной площадью маски\n",
    "        # Сохраняем в подзеркало структуры каталогов относительно out_dir\n",
    "        rel = os.path.relpath(study_dir, in_dir)\n",
    "        dst = os.path.join(out_dir, rel)\n",
    "        saved = save_selected_slices(study_dir, dst, files, vol_u8, mask)\n",
    "        total_saved += saved\n",
    "\n",
    "    print(f\"Сохранено срезов: {total_saved}\")\n",
    "\n",
    "# Итоговая проверка\n",
    "for d in output_dirs:\n",
    "    total_files = sum(len(files) for _, _, files in os.walk(d) if files)\n",
    "    print(f\"Total PNG files in '{d}': {total_files}\")\n"
   ]
  },
  {
   "cell_type": "code",
   "execution_count": 2,
   "id": "9a08d8d4",
   "metadata": {},
   "outputs": [
    {
     "name": "stdout",
     "output_type": "stream",
     "text": [
      "Total PNG files in 'norma_png': 451\n",
      "Total PNG files in 'pneumonia_png': 367\n",
      "Total PNG files in 'pneumotorax_png': 476\n"
     ]
    }
   ],
   "source": [
    "for input_dir in input_dirs:\n",
    "    total_files = sum(len(files) for _, _, files in os.walk(input_dir) if files)\n",
    "    print(f\"Total PNG files in '{input_dir}': {total_files}\")"
   ]
  },
  {
   "cell_type": "code",
   "execution_count": 3,
   "id": "1d09187f",
   "metadata": {},
   "outputs": [
    {
     "name": "stdout",
     "output_type": "stream",
     "text": [
      "Total PNG files in 'norma_lung': 374\n",
      "Total PNG files in 'pneumonia_lung': 368\n",
      "Total PNG files in 'pneumotorax_lung': 458\n"
     ]
    }
   ],
   "source": [
    "# посмотрим количество png файлов в каждой из выходных папок\n",
    "for output_dir in output_dirs:\n",
    "    total_files = sum(len(files) for _, _, files in os.walk(output_dir) if files)\n",
    "    print(f\"Total PNG files in '{output_dir}': {total_files}\")"
   ]
  }
 ],
 "metadata": {
  "kernelspec": {
   "display_name": "base",
   "language": "python",
   "name": "python3"
  },
  "language_info": {
   "codemirror_mode": {
    "name": "ipython",
    "version": 3
   },
   "file_extension": ".py",
   "mimetype": "text/x-python",
   "name": "python",
   "nbconvert_exporter": "python",
   "pygments_lexer": "ipython3",
   "version": "3.13.5"
  }
 },
 "nbformat": 4,
 "nbformat_minor": 5
}
